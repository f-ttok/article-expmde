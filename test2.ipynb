{
 "cells": [
  {
   "cell_type": "code",
   "execution_count": 1,
   "id": "9d24ae3d-ecd3-4005-9a0b-b7b8865e1141",
   "metadata": {
    "tags": []
   },
   "outputs": [
    {
     "name": "stdout",
     "output_type": "stream",
     "text": [
      "Julia Version 1.9.1\n",
      "Commit 147bdf428c (2023-06-07 08:27 UTC)\n",
      "Platform Info:\n",
      "  OS: Windows (x86_64-w64-mingw32)\n",
      "  CPU: 6 × Intel(R) Core(TM) i5-9600K CPU @ 3.70GHz\n",
      "  WORD_SIZE: 64\n",
      "  LIBM: libopenlibm\n",
      "  LLVM: libLLVM-14.0.6 (ORCJIT, skylake)\n",
      "  Threads: 2 on 6 virtual cores\n",
      "Environment:\n",
      "  JULIA_PYTHONCALL_EXE = python\n"
     ]
    }
   ],
   "source": [
    "versioninfo()"
   ]
  },
  {
   "cell_type": "code",
   "execution_count": 2,
   "id": "c7a4d1da-b4d6-481c-8172-ccd6c560b872",
   "metadata": {
    "tags": []
   },
   "outputs": [
    {
     "name": "stderr",
     "output_type": "stream",
     "text": [
      "\u001b[36m\u001b[1m[ \u001b[22m\u001b[39m\u001b[36m\u001b[1mInfo: \u001b[22m\u001b[39mverify download of index files...\n",
      "\u001b[36m\u001b[1m[ \u001b[22m\u001b[39m\u001b[36m\u001b[1mInfo: \u001b[22m\u001b[39mreading database\n",
      "\u001b[36m\u001b[1m[ \u001b[22m\u001b[39m\u001b[36m\u001b[1mInfo: \u001b[22m\u001b[39madding metadata...\n",
      "\u001b[36m\u001b[1m[ \u001b[22m\u001b[39m\u001b[36m\u001b[1mInfo: \u001b[22m\u001b[39madding svd data...\n",
      "\u001b[36m\u001b[1m[ \u001b[22m\u001b[39m\u001b[36m\u001b[1mInfo: \u001b[22m\u001b[39mwriting database\n",
      "\u001b[36m\u001b[1m[ \u001b[22m\u001b[39m\u001b[36m\u001b[1mInfo: \u001b[22m\u001b[39mused remote sites are sparse.tamu.edu with MAT index and math.nist.gov with HTML index\n"
     ]
    },
    {
     "data": {
      "text/plain": [
       "expm_de (generic function with 2 methods)"
      ]
     },
     "execution_count": 2,
     "metadata": {},
     "output_type": "execute_result"
    }
   ],
   "source": [
    "using LinearAlgebra\n",
    "using Random\n",
    "using PyPlot\n",
    "using MatrixDepot\n",
    "\n",
    "include(\"expm_de.jl\")"
   ]
  },
  {
   "cell_type": "code",
   "execution_count": 3,
   "id": "2fa76133-81e7-4bb1-9c99-d9030ae7dca3",
   "metadata": {
    "tags": []
   },
   "outputs": [],
   "source": [
    "A_list = []\n",
    "Ref_list = []\n",
    "\n",
    "Random.seed!(1)\n",
    "n = 50\n",
    "Z = convert(Matrix{BigFloat}, mdopen(\"randsvd\", n, 100).A)\n",
    "for k = 1:2\n",
    "    λ = [1 - 10^(2k*(i-1)/49) + randn()/20*im for i=1:n]\n",
    "    D = Diagonal(λ)\n",
    "    A = convert(Matrix{ComplexF64}, (Z * D) / Z)\n",
    "    Ref = convert(Matrix{ComplexF64}, (Z * exp(D)) / Z)\n",
    "    push!(A_list, A)\n",
    "    push!(Ref_list, Ref)\n",
    "end"
   ]
  },
  {
   "cell_type": "code",
   "execution_count": 4,
   "id": "6e1f17c6-917f-425f-874b-99f575653ebe",
   "metadata": {
    "tags": []
   },
   "outputs": [],
   "source": [
    "ϵ = eps()\n",
    "h = 0.005\n",
    "\n",
    "results = []\n",
    "σ_list = LinRange(-10, 5, 31)\n",
    "for k = 1:2\n",
    "    A = A_list[k]\n",
    "    Ref = Ref_list[k]\n",
    "    λ_right = maximum(real(eigvals(A)))\n",
    "\n",
    "    err_list = zero(σ_list)\n",
    "    for (i, σ) in enumerate(σ_list)\n",
    "        r = expm_de(A, h, ϵ=ϵ/2, λ_right=λ_right, σ=σ)\n",
    "        X = r.X\n",
    "        err_list[i] = opnorm(Ref - X)\n",
    "    end\n",
    "    push!(results, err_list)\n",
    "end"
   ]
  },
  {
   "cell_type": "code",
   "execution_count": 5,
   "id": "02625363-0b8e-4afc-87b7-555bdfb41bcc",
   "metadata": {
    "tags": []
   },
   "outputs": [
    {
     "data": {
      "text/plain": [
       "6"
      ]
     },
     "execution_count": 5,
     "metadata": {},
     "output_type": "execute_result"
    }
   ],
   "source": [
    "rcParams = PyPlot.PyDict(PyPlot.matplotlib.\"rcParams\")\n",
    "rcParams[\"font.size\"] = 6\n",
    "rcParams[\"axes.titlesize\"] = 6"
   ]
  },
  {
   "cell_type": "code",
   "execution_count": 6,
   "id": "05fcc250-113e-47db-9da9-25043372af09",
   "metadata": {
    "tags": []
   },
   "outputs": [
    {
     "name": "stderr",
     "output_type": "stream",
     "text": [
      "sys:1: UserWarning: Matplotlib is currently using agg, which is a non-GUI backend, so cannot show the figure.\n"
     ]
    },
    {
     "data": {
      "image/png": "[encoded data removed]",
      "text/plain": [
       "Figure(PyObject <Figure size 270x210 with 1 Axes>)"
      ]
     },
     "metadata": {},
     "output_type": "display_data"
    }
   ],
   "source": [
    "fig, ax = subplots(1, 1, figsize=(1.8, 1.4), dpi=150)\n",
    "for k = 1:2\n",
    "    x = σ_list\n",
    "    y = results[k]\n",
    "    ax.plot(x, y, label=\"\\$A_$(k)\\$\")\n",
    "    ax.set_yscale(\"log\")\n",
    "    ax.set_xlabel(\"Shift \\$\\\\sigma\\$\")\n",
    "    ax.set_ylabel(\"Abs. Err. (2-norm)\")\n",
    "    ax.set_yticks([1e-10, 1e-5, 1e0])\n",
    "    ax.legend()\n",
    "end\n",
    "fig.tight_layout()\n",
    "fig.savefig(\"fig/test2.pdf\", pad_inches=0)\n",
    "show()"
   ]
  }
 ],
 "metadata": {
  "kernelspec": {
   "display_name": "Julia 1.9.1",
   "language": "julia",
   "name": "julia-1.9"
  },
  "language_info": {
   "file_extension": ".jl",
   "mimetype": "application/julia",
   "name": "julia",
   "version": "1.9.1"
  }
 },
 "nbformat": 4,
 "nbformat_minor": 5
}
