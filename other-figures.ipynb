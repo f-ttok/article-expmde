{
 "cells": [
  {
   "cell_type": "code",
   "execution_count": 1,
   "metadata": {
    "tags": []
   },
   "outputs": [],
   "source": [
    "using LinearAlgebra\n",
    "using PyPlot"
   ]
  },
  {
   "cell_type": "code",
   "execution_count": 2,
   "metadata": {
    "tags": []
   },
   "outputs": [
    {
     "data": {
      "text/plain": [
       "8"
      ]
     },
     "execution_count": 2,
     "metadata": {},
     "output_type": "execute_result"
    }
   ],
   "source": [
    "rcParams = PyPlot.PyDict(PyPlot.matplotlib.\"rcParams\")\n",
    "rcParams[\"font.size\"] = 8\n",
    "rcParams[\"axes.titlesize\"] = 8"
   ]
  },
  {
   "cell_type": "code",
   "execution_count": 3,
   "metadata": {
    "tags": []
   },
   "outputs": [
    {
     "data": {
      "text/plain": [
       "expm_de (generic function with 2 methods)"
      ]
     },
     "execution_count": 3,
     "metadata": {},
     "output_type": "execute_result"
    }
   ],
   "source": [
    "include(\"expm_de.jl\")"
   ]
  },
  {
   "cell_type": "code",
   "execution_count": 4,
   "metadata": {
    "tags": []
   },
   "outputs": [
    {
     "name": "stderr",
     "output_type": "stream",
     "text": [
      "sys:1: UserWarning: Matplotlib is currently using agg, which is a non-GUI backend, so cannot show the figure.\n"
     ]
    },
    {
     "data": {
      "image/png": "[encoded data removed]",
      "text/plain": [
       "Figure(PyObject <Figure size 433.071x196.85 with 2 Axes>)"
      ]
     },
     "metadata": {},
     "output_type": "display_data"
    }
   ],
   "source": [
    "h = 0.05\n",
    "\n",
    "k1 = collect(-130:-70)\n",
    "y1 = @. om99_dx(k1, h)\n",
    "\n",
    "β = 0.25\n",
    "α = β / sqrt(1 + log(1+π/h)/(4h))\n",
    "k2 = collect(50:110)\n",
    "t = @. k2 * h\n",
    "v = @. -2t + α * expm1(-t) - β * expm1(t)\n",
    "u = @. exp(v) / - expm1(v) # = h*x/(π*t) - 1 \n",
    "y2 = @. k2 * u / (1-u)\n",
    "\n",
    "fig, ax = subplots(1, 2, figsize=[11, 5]/2.54)\n",
    "ax[1].plot(k1, y1)\n",
    "ax[1].set_title(\"\\$|x'(kh)| ~ (h=0.05)\\$\")\n",
    "ax[1].set_yscale(\"log\")\n",
    "ax[1].set_xlim(-130, -70)\n",
    "ax[1].set_ylim(1e-16, 1e0)\n",
    "ax[1].set_xticks([-130, -110, -90, -70])\n",
    "ax[1].set_yticks([1e-15, 1e-10, 1e-5, 1e0])\n",
    "ax[1].set_xlabel(\"\\$k\\$\")\n",
    "\n",
    "ax[2].plot(k2, y2)\n",
    "ax[2].set_title(\"\\$ku(kh)/(1-u(kh)) ~ (h=0.05)\\$\")\n",
    "ax[2].set_yscale(\"log\")\n",
    "ax[2].set_xlim(50, 110)\n",
    "ax[2].set_ylim(1e-16, 1e0)\n",
    "ax[2].set_xticks([50, 70, 90, 110])\n",
    "ax[2].set_yticks([1e-15, 1e-10, 1e-5, 1e0])\n",
    "ax[2].set_xlabel(\"\\$k\\$\")\n",
    "\n",
    "fig.tight_layout()\n",
    "fig.savefig(\"fig/example_summand.pdf\")\n",
    "show()"
   ]
  }
 ],
 "metadata": {
  "kernelspec": {
   "display_name": "expm_de",
   "language": "julia",
   "name": "julia_expmde"
  },
  "language_info": {
   "file_extension": ".jl",
   "mimetype": "application/julia",
   "name": "julia",
   "version": "1.10.0"
  }
 },
 "nbformat": 4,
 "nbformat_minor": 4
}
