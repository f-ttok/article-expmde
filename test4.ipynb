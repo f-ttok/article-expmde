{
 "cells": [
  {
   "cell_type": "code",
   "execution_count": 1,
   "metadata": {},
   "outputs": [
    {
     "name": "stdout",
     "output_type": "stream",
     "text": [
      "Julia Version 1.10.2\n",
      "Commit bd47eca2c8a (2024-03-01 10:14 UTC)\n",
      "Build Info:\n",
      "  Official https://julialang.org/ release\n",
      "Platform Info:\n",
      "  OS: macOS (arm64-apple-darwin22.4.0)\n",
      "  CPU: 8 × Apple M1\n",
      "  WORD_SIZE: 64\n",
      "  LIBM: libopenlibm\n",
      "  LLVM: libLLVM-15.0.7 (ORCJIT, apple-m1)\n",
      "Threads: 1 default, 0 interactive, 1 GC (on 4 virtual cores)\n",
      "Environment:\n",
      "  JULIA_PYTHONCALL_EXE = @PyCall\n"
     ]
    }
   ],
   "source": [
    "versioninfo()"
   ]
  },
  {
   "cell_type": "code",
   "execution_count": 2,
   "metadata": {},
   "outputs": [
    {
     "name": "stderr",
     "output_type": "stream",
     "text": [
      "\u001b[32m\u001b[1m  Activating\u001b[22m\u001b[39m project at `~/Documents/Repos/article-expmde`\n"
     ]
    }
   ],
   "source": [
    "using Pkg\n",
    "Pkg.activate(\".\")"
   ]
  },
  {
   "cell_type": "code",
   "execution_count": 3,
   "metadata": {},
   "outputs": [
    {
     "name": "stderr",
     "output_type": "stream",
     "text": [
      "\u001b[36m\u001b[1m[ \u001b[22m\u001b[39m\u001b[36m\u001b[1mInfo: \u001b[22m\u001b[39mverify download of index files...\n",
      "\u001b[36m\u001b[1m[ \u001b[22m\u001b[39m\u001b[36m\u001b[1mInfo: \u001b[22m\u001b[39mreading database\n",
      "\u001b[36m\u001b[1m[ \u001b[22m\u001b[39m\u001b[36m\u001b[1mInfo: \u001b[22m\u001b[39madding metadata...\n",
      "\u001b[36m\u001b[1m[ \u001b[22m\u001b[39m\u001b[36m\u001b[1mInfo: \u001b[22m\u001b[39madding svd data...\n",
      "\u001b[36m\u001b[1m[ \u001b[22m\u001b[39m\u001b[36m\u001b[1mInfo: \u001b[22m\u001b[39mwriting database\n",
      "\u001b[36m\u001b[1m[ \u001b[22m\u001b[39m\u001b[36m\u001b[1mInfo: \u001b[22m\u001b[39mused remote sites are sparse.tamu.edu with MAT index and math.nist.gov with HTML index\n"
     ]
    },
    {
     "data": {
      "text/plain": [
       "expm_de (generic function with 2 methods)"
      ]
     },
     "execution_count": 3,
     "metadata": {},
     "output_type": "execute_result"
    }
   ],
   "source": [
    "using LinearAlgebra\n",
    "using MatrixDepot\n",
    "using DelimitedFiles\n",
    "using ProgressMeter\n",
    "\n",
    "include(\"expm_pade1313.jl\")\n",
    "include(\"expm_de.jl\")"
   ]
  },
  {
   "cell_type": "code",
   "execution_count": 4,
   "metadata": {},
   "outputs": [
    {
     "data": {
      "text/latex": [
       "\\subsubsection{Currently loaded Matrices}\n",
       "\\begin{tabular}\n",
       "{l | l | l | l | l}\n",
       "builtin(\\#) &  &  &  &  \\\\\n",
       "\\hline\n",
       "1 baart & 13 fiedler & 25 invhilb & 37 parter & 49 shaw \\\\\n",
       "2 binomial & 14 forsythe & 26 invol & 38 pascal & 50 smallworld \\\\\n",
       "3 blur & 15 foxgood & 27 kahan & 39 pei & 51 spikes \\\\\n",
       "4 cauchy & 16 frank & 28 kms & 40 phillips & 52 toeplitz \\\\\n",
       "5 chebspec & 17 gilbert & 29 lehmer & 41 poisson & 53 tridiag \\\\\n",
       "6 chow & 18 golub & 30 lotkin & 42 prolate & 54 triw \\\\\n",
       "7 circul & 19 gravity & 31 magic & 43 randcorr & 55 ursell \\\\\n",
       "8 clement & 20 grcar & 32 minij & 44 rando & 56 vand \\\\\n",
       "9 companion & 21 hadamard & 33 moler & 45 randsvd & 57 wathen \\\\\n",
       "10 deriv2 & 22 hankel & 34 neumann & 46 rohess & 58 wilkinson \\\\\n",
       "11 dingdong & 23 heat & 35 oscillate & 47 rosser & 59 wing \\\\\n",
       "12 erdrey & 24 hilb & 36 parallax & 48 sampling &  \\\\\n",
       "\\end{tabular}\n",
       "\\begin{tabular}\n",
       "{l}\n",
       "user(\\#) \\\\\n",
       "\\hline\n",
       "\\end{tabular}\n",
       "\\begin{tabular}\n",
       "{l | l | l | l | l | l | l | l | l | l | l | l}\n",
       "Groups &  &  &  &  &  &  &  &  &  &  &  \\\\\n",
       "\\hline\n",
       "all & local & eigen & illcond & posdef & regprob & symmetric &  &  &  &  &  \\\\\n",
       "builtin & user & graph & inverse & random & sparse &  &  &  &  &  &  \\\\\n",
       "\\end{tabular}\n",
       "\\begin{tabular}\n",
       "{l | l}\n",
       "Suite Sparse & of \\\\\n",
       "\\hline\n",
       "0 & 2904 \\\\\n",
       "\\end{tabular}\n",
       "\\begin{tabular}\n",
       "{l | l}\n",
       "MatrixMarket & of \\\\\n",
       "\\hline\n",
       "0 & 498 \\\\\n",
       "\\end{tabular}\n"
      ],
      "text/markdown": [
       "### Currently loaded Matrices\n",
       "\n",
       "| builtin(#)  |             |              |             |               |\n",
       "|:----------- |:----------- |:------------ |:----------- |:------------- |\n",
       "| 1 baart     | 13 fiedler  | 25 invhilb   | 37 parter   | 49 shaw       |\n",
       "| 2 binomial  | 14 forsythe | 26 invol     | 38 pascal   | 50 smallworld |\n",
       "| 3 blur      | 15 foxgood  | 27 kahan     | 39 pei      | 51 spikes     |\n",
       "| 4 cauchy    | 16 frank    | 28 kms       | 40 phillips | 52 toeplitz   |\n",
       "| 5 chebspec  | 17 gilbert  | 29 lehmer    | 41 poisson  | 53 tridiag    |\n",
       "| 6 chow      | 18 golub    | 30 lotkin    | 42 prolate  | 54 triw       |\n",
       "| 7 circul    | 19 gravity  | 31 magic     | 43 randcorr | 55 ursell     |\n",
       "| 8 clement   | 20 grcar    | 32 minij     | 44 rando    | 56 vand       |\n",
       "| 9 companion | 21 hadamard | 33 moler     | 45 randsvd  | 57 wathen     |\n",
       "| 10 deriv2   | 22 hankel   | 34 neumann   | 46 rohess   | 58 wilkinson  |\n",
       "| 11 dingdong | 23 heat     | 35 oscillate | 47 rosser   | 59 wing       |\n",
       "| 12 erdrey   | 24 hilb     | 36 parallax  | 48 sampling |               |\n",
       "\n",
       "| user(#) |\n",
       "|:------- |\n",
       "\n",
       "| Groups  |       |       |         |        |         |           |     |     |     |     |     |\n",
       "|:------- |:----- |:----- |:------- |:------ |:------- |:--------- |:--- |:--- |:--- |:--- |:--- |\n",
       "| all     | local | eigen | illcond | posdef | regprob | symmetric |     |     |     |     |     |\n",
       "| builtin | user  | graph | inverse | random | sparse  |           |     |     |     |     |     |\n",
       "\n",
       "| Suite Sparse | of   |\n",
       "|:------------ |:---- |\n",
       "| 0            | 2904 |\n",
       "\n",
       "| MatrixMarket | of  |\n",
       "|:------------ |:--- |\n",
       "| 0            | 498 |\n"
      ],
      "text/plain": [
       "\u001b[1m  Currently loaded Matrices\u001b[22m\n",
       "\u001b[1m  –––––––––––––––––––––––––\u001b[22m\n",
       "\n",
       "  builtin(#)                                                    \n",
       "  ––––––––––– ––––––––––– –––––––––––– ––––––––––– –––––––––––––\n",
       "  1 baart     13 fiedler  25 invhilb   37 parter   49 shaw      \n",
       "  2 binomial  14 forsythe 26 invol     38 pascal   50 smallworld\n",
       "  3 blur      15 foxgood  27 kahan     39 pei      51 spikes    \n",
       "  4 cauchy    16 frank    28 kms       40 phillips 52 toeplitz  \n",
       "  5 chebspec  17 gilbert  29 lehmer    41 poisson  53 tridiag   \n",
       "  6 chow      18 golub    30 lotkin    42 prolate  54 triw      \n",
       "  7 circul    19 gravity  31 magic     43 randcorr 55 ursell    \n",
       "  8 clement   20 grcar    32 minij     44 rando    56 vand      \n",
       "  9 companion 21 hadamard 33 moler     45 randsvd  57 wathen    \n",
       "  10 deriv2   22 hankel   34 neumann   46 rohess   58 wilkinson \n",
       "  11 dingdong 23 heat     35 oscillate 47 rosser   59 wing      \n",
       "  12 erdrey   24 hilb     36 parallax  48 sampling              \n",
       "\n",
       "  user(#)\n",
       "  –––––––\n",
       "\n",
       "  Groups                                                   \n",
       "  ––––––– ––––– ––––– ––––––– –––––– ––––––– –––––––––     \n",
       "  all     local eigen illcond posdef regprob symmetric     \n",
       "  builtin user  graph inverse random sparse                \n",
       "\n",
       "  Suite Sparse of  \n",
       "  –––––––––––– ––––\n",
       "  0            2904\n",
       "\n",
       "  MatrixMarket of \n",
       "  –––––––––––– –––\n",
       "  0            498"
      ]
     },
     "execution_count": 4,
     "metadata": {},
     "output_type": "execute_result"
    }
   ],
   "source": [
    "mdinfo()"
   ]
  },
  {
   "cell_type": "code",
   "execution_count": 5,
   "metadata": {
    "scrolled": true
   },
   "outputs": [
    {
     "name": "stdout",
     "output_type": "stream",
     "text": [
      "blur\n",
      "AssertionError(\"n != 10. n = 100.\")\n",
      "\n",
      "hadamard\n",
      "ArgumentError(\"n must be positive integer and a power of 2.\")\n",
      "\n",
      "neumann\n",
      "AssertionError(\"n != 10. n = 100.\")\n",
      "\n",
      "parallax\n",
      "AssertionError(\"m != n. m = 26 and n = 10.\")\n",
      "\n",
      "phillips\n",
      "ErrorException(\"The dimension of the matrix must be a multiple of 4.\")\n",
      "\n",
      "poisson\n",
      "AssertionError(\"n != 10. n = 100.\")\n",
      "\n",
      "rosser\n",
      "ArgumentError(\"n must be positive integer and a power of 2.\")\n",
      "\n",
      "wathen\n",
      "AssertionError(\"n != 10. n = 341.\")\n",
      "\n"
     ]
    }
   ],
   "source": [
    "mkpath(\"fig\")\n",
    "mkpath(\"matrix/test5\")\n",
    "matnames = []\n",
    "for matname in mdlist(:builtin)\n",
    "    try\n",
    "        A = matrixdepot(matname, 10) |> Matrix\n",
    "        m, n = size(A)\n",
    "        @assert m == n \"m != n. m = $(m) and n = $(n).\"\n",
    "        @assert n == 10 \"n != 10. n = $(n).\"\n",
    "        λ = eigvals(A)\n",
    "        λ_right = λ[λ |> real |> argmax]\n",
    "\n",
    "        Ã = A - λ_right*I*(1 + 0im)\n",
    "        Ã_big = big.(Ã)\n",
    "        F̃_big = expm_pade1313(Ã_big)\n",
    "        F̃ = ComplexF64.(F̃_big)\n",
    "        writedlm(\"matrix/test5/$(matname)_A.txt\", Ã)\n",
    "        writedlm(\"matrix/test5/$(matname)_Ref.txt\", F̃)\n",
    "        push!(matnames, matname)\n",
    "    catch e\n",
    "        println(matname)\n",
    "        println(e)\n",
    "        println()\n",
    "    end\n",
    "end"
   ]
  },
  {
   "cell_type": "code",
   "execution_count": 6,
   "metadata": {},
   "outputs": [
    {
     "name": "stdout",
     "output_type": "stream",
     "text": [
      "Any[\"baart\", \"binomial\", \"cauchy\", \"chebspec\", \"chow\", \"circul\", \"clement\", \"companion\", \"deriv2\", \"dingdong\", \"erdrey\", \"fiedler\", \"forsythe\", \"foxgood\", \"frank\", \"gilbert\", \"golub\", \"gravity\", \"grcar\", \"hankel\", \"heat\", \"hilb\", \"invhilb\", \"invol\", \"kahan\", \"kms\", \"lehmer\", \"lotkin\", \"magic\", \"minij\", \"moler\", \"oscillate\", \"parter\", \"pascal\", \"pei\", \"prolate\", \"randcorr\", \"rando\", \"randsvd\", \"rohess\", \"sampling\", \"shaw\", \"smallworld\", \"spikes\", \"toeplitz\", \"tridiag\", \"triw\", \"ursell\", \"vand\", \"wilkinson\", \"wing\"]"
     ]
    }
   ],
   "source": [
    "print(matnames)"
   ]
  },
  {
   "cell_type": "code",
   "execution_count": 7,
   "metadata": {},
   "outputs": [
    {
     "name": "stdout",
     "output_type": "stream",
     "text": [
      "The number of test matrices: 51\n"
     ]
    }
   ],
   "source": [
    "println(\"The number of test matrices: $(length(matnames))\")"
   ]
  },
  {
   "cell_type": "code",
   "execution_count": 8,
   "metadata": {},
   "outputs": [],
   "source": [
    "struct Result\n",
    "    matname::String\n",
    "    ss::Float64\n",
    "    de_ϵ08::Float64\n",
    "    de_ϵ16::Float64\n",
    "end"
   ]
  },
  {
   "cell_type": "code",
   "execution_count": 9,
   "metadata": {},
   "outputs": [],
   "source": [
    "results = Vector{Result}()\n",
    "for matname in matnames\n",
    "    A = readdlm(\"matrix/test5/$(matname)_A.txt\", '\\t', ComplexF64)\n",
    "    F = readdlm(\"matrix/test5/$(matname)_Ref.txt\", '\\t', ComplexF64)\n",
    "    X_ss = exp(A)\n",
    "    X_de_ϵ08 = expm_de(A, ϵ=1e-8).X\n",
    "    X_de_ϵ16 = expm_de(A, ϵ=1e-16).X\n",
    "\n",
    "    result = Result(\n",
    "        matname,\n",
    "        opnorm(F - X_ss),\n",
    "        opnorm(F - X_de_ϵ08),\n",
    "        opnorm(F - X_de_ϵ16),\n",
    "    )\n",
    "    push!(results, result)\n",
    "end"
   ]
  },
  {
   "cell_type": "code",
   "execution_count": 10,
   "metadata": {},
   "outputs": [
    {
     "name": "stdout",
     "output_type": "stream",
     "text": [
      "Result[Result(\"baart\", 1.8458258622418101e-16, 6.557161539335715e-13, 1.0911191630967794e-15), Result(\"binomial\", 4.0431062444575534e-14, 2.2112013401100801e-13, 8.67101557945572e-15), Result(\"cauchy\", 6.358184931080135e-16, 6.556232508629473e-13, 1.1163496847257694e-15), Result(\"chebspec\", 2.8871739523775124e-9, 15.54029414102297, 16.45054555372352), Result(\"chow\", 2.019212306824227e-15, 6.560427487122559e-14, 2.966074945964343e-15), Result(\"circul\", 2.6585192479416707e-12, 3.301929566989645e-12, 2.6456545326711336e-12), Result(\"clement\", 1.470792680328177e-9, 1.471273096269423e-9, 1.4707910608399248e-9), Result(\"companion\", 4.888815121172405e-16, 6.551848531519877e-13, 1.9781286358668863e-15), Result(\"deriv2\", 1.0204507067528942e-15, 6.565966757592914e-13, 1.2216045377967276e-15), Result(\"dingdong\", 4.977054514555378e-15, 6.558016831541685e-13, 1.3360080309431962e-15), Result(\"erdrey\", 2.888652845656729e-15, 6.555786611463106e-13, 1.2847628688898797e-15), Result(\"fiedler\", 5.83751441072048e-15, 6.552446898410119e-13, 1.453957924368259e-15), Result(\"forsythe\", 4.380743162514642e-16, 1.962570633872545e-14, 1.3748535030367745e-15), Result(\"foxgood\", 1.4233196194946833e-14, 6.560386219513532e-13, 1.1401733940911927e-15), Result(\"frank\", 1.1085500686410049e-15, 2.129645301850832e-13, 2.1502440776500067e-15), Result(\"gilbert\", 4.3881748144013015e-15, 6.556015816320988e-13, 1.2090959690633385e-15), Result(\"golub\", 8.25262354268405e-15, 7.980625750488652e-13, 2.140816210705194e-14), Result(\"gravity\", 9.179811494545604e-16, 6.556080674215236e-13, 1.069281849941818e-15), Result(\"grcar\", 7.269696714609283e-16, 4.061180849979325e-9, 4.849865278548923e-15), Result(\"hankel\", 2.847203848089879e-12, 3.495964452163443e-12, 2.839626474425427e-12), Result(\"heat\", 3.906011233622921e-17, 2.1351770388064544e-13, 1.9108171286943396e-15), Result(\"hilb\", 3.997289967975085e-15, 6.5570015343121e-13, 1.1568472857688047e-15), Result(\"invhilb\", 660.9751126639906, 660.9708365397527, 660.970836539752), Result(\"invol\", 64667.945031939635, 11.139192304713438, 11.137369553906998), Result(\"kahan\", 2.002202115336924e-16, 6.564046482412518e-13, 1.801491011942923e-15), Result(\"kms\", 1.1653908215091393e-15, 6.55692201528653e-13, 1.1691902055048514e-15), Result(\"lehmer\", 2.026917174499548e-15, 6.559610894828955e-13, 1.1797441170656232e-15), Result(\"lotkin\", 3.4791820699007387e-16, 6.556761123488575e-13, 1.4167352950288848e-15), Result(\"magic\", 8.728160694270507e-11, 8.792689215663676e-11, 8.727053524340873e-11), Result(\"minij\", 9.955606042080313e-15, 6.542000672484459e-13, 2.2220890062883976e-15), Result(\"moler\", 5.296540966830783e-13, 1.1646079320694351e-12, 5.083393017148365e-13), Result(\"oscillate\", 1.6475608778702648e-16, 6.56369499092061e-13, 1.333605840506315e-15), Result(\"parter\", 7.154139766742577e-16, 3.1959588116788917e-12, 1.7826804470070384e-15), Result(\"pascal\", 9.539913064215859e-9, 9.507612728823256e-9, 9.506101851972486e-9), Result(\"pei\", 1.0799757879653771e-9, 1.0806296857346453e-9, 1.0799731706145995e-9), Result(\"prolate\", 1.4971524445052484e-13, 7.786559023719369e-13, 1.2223497056779113e-13), Result(\"randcorr\", 1.52922940997796e-14, 6.560984066509863e-13, 1.2429733386826488e-15), Result(\"rando\", 3.6985204443267166e-16, 6.554866988307592e-13, 1.4651878239798773e-15), Result(\"randsvd\", 3.37851950508606e-16, 6.562564552844431e-13, 1.5692734781850674e-15), Result(\"rohess\", 2.083827385812069e-16, 6.562625610753375e-13, 1.1859663266475286e-15), Result(\"sampling\", 1.4138832705424822e-10, 1.1673260412476539e-8, 3.069967625889396e-8), Result(\"shaw\", 5.910588114755413e-15, 6.558334318318413e-13, 1.3079420135624948e-15), Result(\"smallworld\", 2.699136844513554e-15, 6.556227056966731e-13, 1.2782284999083002e-15), Result(\"spikes\", 2.482667520949172e-16, 6.559319681479719e-13, 1.6754581477057465e-15), Result(\"toeplitz\", 1.1361866229583281e-14, 6.59991310465435e-13, 3.668508112476508e-15), Result(\"tridiag\", 9.544544029506801e-16, 6.560263793456209e-13, 1.3387482452428804e-15), Result(\"triw\", 6.870248438488053e-16, 6.413239368982183e-14, 2.5844596577890144e-15), Result(\"ursell\", 1.602949294400319e-14, 6.564762382620413e-13, 1.679248544026336e-15), Result(\"vand\", 3.797299815925875e-8, 4.158352471383621e-9, 4.158604980727409e-9), Result(\"wilkinson\", 1.4300457187883884e-15, 6.555747026502924e-13, 1.4900045300202218e-15), Result(\"wing\", 2.312107055730875e-16, 6.565876369038604e-13, 1.7807327417474554e-15)]\n"
     ]
    }
   ],
   "source": [
    "println(results)"
   ]
  },
  {
   "cell_type": "code",
   "execution_count": 11,
   "metadata": {},
   "outputs": [],
   "source": [
    "results = Result[Result(\"baart\", 1.8458258622418101e-16, 6.557161539335715e-13, 1.0911191630967794e-15), Result(\"binomial\", 4.0431062444575534e-14, 2.2112013401100801e-13, 8.67101557945572e-15), Result(\"cauchy\", 6.358184931080135e-16, 6.556232508629473e-13, 1.1163496847257694e-15), Result(\"chebspec\", 2.8871739523775124e-9, 15.54029414102297, 16.45054555372352), Result(\"chow\", 2.019212306824227e-15, 6.560427487122559e-14, 2.966074945964343e-15), Result(\"circul\", 2.6585192479416707e-12, 3.301929566989645e-12, 2.6456545326711336e-12), Result(\"clement\", 1.470792680328177e-9, 1.471273096269423e-9, 1.4707910608399248e-9), Result(\"companion\", 4.888815121172405e-16, 6.551848531519877e-13, 1.9781286358668863e-15), Result(\"deriv2\", 1.0204507067528942e-15, 6.565966757592914e-13, 1.2216045377967276e-15), Result(\"dingdong\", 4.977054514555378e-15, 6.558016831541685e-13, 1.3360080309431962e-15), Result(\"erdrey\", 1.7748676502576154e-15, 6.557557729426738e-13, 1.1354222209890417e-15), Result(\"fiedler\", 5.83751441072048e-15, 6.552446898410119e-13, 1.453957924368259e-15), Result(\"forsythe\", 4.380743162514642e-16, 1.962570633872545e-14, 1.3748535030367745e-15), Result(\"foxgood\", 1.4233196194946833e-14, 6.560386219513532e-13, 1.1401733940911927e-15), Result(\"frank\", 1.1085500686410049e-15, 2.129645301850832e-13, 2.1502440776500067e-15), Result(\"gilbert\", 9.700984879473309e-15, 6.558452690388672e-13, 1.1324720851485008e-15), Result(\"golub\", 3.440488881337977e-14, 8.508903983085689e-13, 1.4626297194434366e-14), Result(\"gravity\", 9.179811494545604e-16, 6.556080674215236e-13, 1.069281849941818e-15), Result(\"grcar\", 7.269696714609283e-16, 4.061180849979325e-9, 4.849865278548923e-15), Result(\"hankel\", 2.847203848089879e-12, 3.495964452163443e-12, 2.839626474425427e-12), Result(\"heat\", 3.906011233622921e-17, 2.1351770388064544e-13, 1.9108171286943396e-15), Result(\"hilb\", 3.997289967975085e-15, 6.5570015343121e-13, 1.1568472857688047e-15), Result(\"invhilb\", 660.9751126639906, 660.9708365397527, 660.970836539752), Result(\"invol\", 64667.945031939635, 11.139192304713438, 11.137369553906998), Result(\"kahan\", 2.002202115336924e-16, 6.564046482412518e-13, 1.801491011942923e-15), Result(\"kms\", 1.1653908215091393e-15, 6.55692201528653e-13, 1.1691902055048514e-15), Result(\"lehmer\", 2.026917174499548e-15, 6.559610894828955e-13, 1.1797441170656232e-15), Result(\"lotkin\", 3.4791820699007387e-16, 6.556761123488575e-13, 1.4167352950288848e-15), Result(\"magic\", 8.728160694270507e-11, 8.792689215663676e-11, 8.727053524340873e-11), Result(\"minij\", 9.955606042080313e-15, 6.542000672484459e-13, 2.2220890062883976e-15), Result(\"moler\", 5.296540966830783e-13, 1.1646079320694351e-12, 5.083393017148365e-13), Result(\"oscillate\", 2.30565442984546e-16, 6.5616351941431e-13, 1.5782845379483969e-15), Result(\"parter\", 7.154139766742577e-16, 3.1959588116788917e-12, 1.7826804470070384e-15), Result(\"pascal\", 9.539913064215859e-9, 9.507612728823256e-9, 9.506101851972486e-9), Result(\"pei\", 1.0799757879653771e-9, 1.0806296857346453e-9, 1.0799731706145995e-9), Result(\"prolate\", 1.4971524445052484e-13, 7.786559023719369e-13, 1.2223497056779113e-13), Result(\"randcorr\", 1.1458746635052237e-15, 6.558866675675226e-13, 1.6382661449943508e-15), Result(\"rando\", 6.275597629924105e-16, 6.560318659690672e-13, 1.177690227661848e-15), Result(\"randsvd\", 2.4802015215414845e-16, 6.559437767631274e-13, 1.9056392628934634e-15), Result(\"rohess\", 2.1093835234706054e-16, 6.564761131235673e-13, 1.5147654282855688e-15), Result(\"sampling\", 1.4138832705424822e-10, 1.1673260412476539e-8, 3.069967625889396e-8), Result(\"shaw\", 5.910588114755413e-15, 6.558334318318413e-13, 1.3079420135624948e-15), Result(\"smallworld\", 2.699136844513554e-15, 6.556227056966731e-13, 1.2782284999083002e-15), Result(\"spikes\", 2.482667520949172e-16, 6.559319681479719e-13, 1.6754581477057465e-15), Result(\"toeplitz\", 1.1361866229583281e-14, 6.59991310465435e-13, 3.668508112476508e-15), Result(\"tridiag\", 9.544544029506801e-16, 6.560263793456209e-13, 1.3387482452428804e-15), Result(\"triw\", 6.870248438488053e-16, 6.413239368982183e-14, 2.5844596577890144e-15), Result(\"ursell\", 1.602949294400319e-14, 6.564762382620413e-13, 1.679248544026336e-15), Result(\"vand\", 3.797299815925875e-8, 4.158352471383621e-9, 4.158604980727409e-9), Result(\"wilkinson\", 1.4300457187883884e-15, 6.555747026502924e-13, 1.4900045300202218e-15), Result(\"wing\", 2.312107055730875e-16, 6.565876369038604e-13, 1.7807327417474554e-15)];"
   ]
  },
  {
   "cell_type": "code",
   "execution_count": 12,
   "metadata": {},
   "outputs": [],
   "source": [
    "using PyPlot"
   ]
  },
  {
   "cell_type": "code",
   "execution_count": 13,
   "metadata": {},
   "outputs": [
    {
     "data": {
      "text/plain": [
       "8"
      ]
     },
     "execution_count": 13,
     "metadata": {},
     "output_type": "execute_result"
    }
   ],
   "source": [
    "rcParams = PyPlot.PyDict(PyPlot.matplotlib.\"rcParams\")\n",
    "rcParams[\"font.size\"] = 8\n",
    "rcParams[\"axes.titlesize\"] = 8"
   ]
  },
  {
   "cell_type": "code",
   "execution_count": 16,
   "metadata": {},
   "outputs": [
    {
     "name": "stderr",
     "output_type": "stream",
     "text": [
      "sys:1: UserWarning: FigureCanvasAgg is non-interactive, and thus cannot be shown\n"
     ]
    },
    {
     "data": {
      "image/png": "[encoded data removed]",
      "text/plain": [
       "Figure(PyObject <Figure size 472.441x393.701 with 1 Axes>)"
      ]
     },
     "metadata": {},
     "output_type": "display_data"
    }
   ],
   "source": [
    "fig, ax = subplots(1, 1, figsize=[12, 10]/2.54)\n",
    "\n",
    "x = 1:length(results)\n",
    "err_ss = [r.ss for r in results]\n",
    "err_de_08 = [r.de_ϵ08 for r in results]\n",
    "err_de_16 = [r.de_ϵ16 for r in results]\n",
    "\n",
    "ax.plot([0, 52], [1e-8, 1e-8], c=\"k\", lw=\"0.5\", ls=\"--\")\n",
    "ax.plot([0, 52], [1e-16, 1e-16], c=\"k\", lw=\"0.5\", ls=\"--\")\n",
    "ax.plot(x, err_de_08, label=\"Alg. 2 (\\$\\\\epsilon=10^{-8}\\$)\", lw=0,\n",
    "    c=\"tab:blue\", marker=\"o\", markerfacecolor=\"None\",\n",
    "    markeredgewidth=1.5,\n",
    ")\n",
    "ax.plot(x, err_de_16, label=\"Alg. 2 (\\$\\\\epsilon=10^{-16}\\$)\", lw=0,\n",
    "    c=\"tab:orange\", marker=\"+\", markeredgewidth=1.5,\n",
    ")\n",
    "ax.plot(x, err_ss, label=\"exp (Scaling & Squaring)\", lw=0,\n",
    "    c=\"tab:gray\", marker=\"x\", markeredgewidth=1.5,\n",
    ")\n",
    "\n",
    "ax.set_xlim(0, 52)\n",
    "ax.set_xlabel(\"Matrix ID\")\n",
    "ax.set_ylabel(\"Absolute Error (2-norm)\")\n",
    "# ax.set_ylim(1e-16, 1e3)\n",
    "ax.set_yscale(\"log\")\n",
    "ax.set_yticks([1e-16, 1e-12, 1e-8, 1e-4, 1e-0])\n",
    "ax.legend()\n",
    "fig.tight_layout()\n",
    "fig.savefig(\"fig/test5.pdf\")\n",
    "show()"
   ]
  }
 ],
 "metadata": {
  "kernelspec": {
   "display_name": "Julia 1.10.2",
   "language": "julia",
   "name": "julia-1.10"
  },
  "language_info": {
   "file_extension": ".jl",
   "mimetype": "application/julia",
   "name": "julia",
   "version": "1.10.2"
  }
 },
 "nbformat": 4,
 "nbformat_minor": 4
}
