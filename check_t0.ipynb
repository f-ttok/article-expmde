{
 "cells": [
  {
   "cell_type": "code",
   "execution_count": 10,
   "metadata": {},
   "outputs": [],
   "source": [
    "using NLsolve\n",
    "using Printf"
   ]
  },
  {
   "cell_type": "code",
   "execution_count": 2,
   "metadata": {},
   "outputs": [
    {
     "data": {
      "text/plain": [
       "nls (generic function with 1 method)"
      ]
     },
     "metadata": {},
     "output_type": "display_data"
    }
   ],
   "source": [
    "function nls(func, params...; ini = [0.0])\n",
    "    if typeof(ini) <: Number\n",
    "        r = nlsolve((vout,vin)->vout[1]=func(vin[1],params...), [ini])\n",
    "        v = r.zero[1]\n",
    "    else\n",
    "        r = nlsolve((vout,vin)->vout .= func(vin,params...), ini)\n",
    "        v = r.zero\n",
    "    end\n",
    "    return v, r.f_converged\n",
    "end"
   ]
  },
  {
   "cell_type": "code",
   "execution_count": 13,
   "metadata": {},
   "outputs": [
    {
     "name": "stdout",
     "output_type": "stream",
     "text": [
      "h: 1.0e+00, t0: 0.493\n",
      "h: 1.0e-01, t0: 0.514\n",
      "h: 1.0e-02, t0: 0.524\n",
      "h: 1.0e-03, t0: 0.526\n"
     ]
    }
   ],
   "source": [
    "for h in [1e0, 1e-1, 1e-2, 1e-3]\n",
    "    β = 0.25\n",
    "    α = β / sqrt(1 + log(1 + π/h)/(4h))\n",
    "\n",
    "    function f(t, params)\n",
    "        α, β, h = params[1], params[2], params[3]\n",
    "        v = -2t - α*(1 - exp(-t)) - β*(exp(t) - 1)\n",
    "        return v - log(1 - 1/sqrt(2))\n",
    "    end\n",
    "\n",
    "    t0 = nls(f, (α, β, h), ini=1.0)[1]\n",
    "    @printf(\"h: %.1e, t0: %.3f\\n\", h, t0)\n",
    "end"
   ]
  }
 ],
 "metadata": {
  "kernelspec": {
   "display_name": "Julia 1.10.2",
   "language": "julia",
   "name": "julia-1.10"
  },
  "language_info": {
   "file_extension": ".jl",
   "mimetype": "application/julia",
   "name": "julia",
   "version": "1.10.2"
  }
 },
 "nbformat": 4,
 "nbformat_minor": 4
}
