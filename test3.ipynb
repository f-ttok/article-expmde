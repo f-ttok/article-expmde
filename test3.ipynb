{
 "cells": [
  {
   "cell_type": "code",
   "execution_count": 1,
   "id": "20c8c076-e9b2-4986-85e1-ea584edbff39",
   "metadata": {
    "tags": []
   },
   "outputs": [
    {
     "name": "stdout",
     "output_type": "stream",
     "text": [
      "Julia Version 1.10.0\n",
      "Commit 3120989f39 (2023-12-25 18:01 UTC)\n",
      "Build Info:\n",
      "  Official https://julialang.org/ release\n",
      "Platform Info:\n",
      "  OS: Windows (x86_64-w64-mingw32)\n",
      "  CPU: 6 × Intel(R) Core(TM) i5-9600K CPU @ 3.70GHz\n",
      "  WORD_SIZE: 64\n",
      "  LIBM: libopenlibm\n",
      "  LLVM: libLLVM-15.0.7 (ORCJIT, skylake)\n",
      "  Threads: 2 on 6 virtual cores\n",
      "Environment:\n",
      "  JULIA_PYTHONCALL_EXE = python\n"
     ]
    }
   ],
   "source": [
    "versioninfo()"
   ]
  },
  {
   "cell_type": "code",
   "execution_count": 2,
   "id": "0ae9f4ab-652a-417b-8304-368b1a8bb940",
   "metadata": {
    "tags": []
   },
   "outputs": [
    {
     "name": "stderr",
     "output_type": "stream",
     "text": [
      "\u001b[36m\u001b[1m[ \u001b[22m\u001b[39m\u001b[36m\u001b[1mInfo: \u001b[22m\u001b[39mverify download of index files...\n",
      "\u001b[36m\u001b[1m[ \u001b[22m\u001b[39m\u001b[36m\u001b[1mInfo: \u001b[22m\u001b[39mreading database\n",
      "\u001b[36m\u001b[1m[ \u001b[22m\u001b[39m\u001b[36m\u001b[1mInfo: \u001b[22m\u001b[39madding metadata...\n",
      "\u001b[36m\u001b[1m[ \u001b[22m\u001b[39m\u001b[36m\u001b[1mInfo: \u001b[22m\u001b[39madding svd data...\n",
      "\u001b[36m\u001b[1m[ \u001b[22m\u001b[39m\u001b[36m\u001b[1mInfo: \u001b[22m\u001b[39mwriting database\n",
      "\u001b[36m\u001b[1m[ \u001b[22m\u001b[39m\u001b[36m\u001b[1mInfo: \u001b[22m\u001b[39mused remote sites are sparse.tamu.edu with MAT index and math.nist.gov with HTML index\n"
     ]
    },
    {
     "data": {
      "text/plain": [
       "expm_de (generic function with 2 methods)"
      ]
     },
     "execution_count": 2,
     "metadata": {},
     "output_type": "execute_result"
    }
   ],
   "source": [
    "using LinearAlgebra\n",
    "using Random\n",
    "using PyPlot\n",
    "using MatrixDepot\n",
    "\n",
    "include(\"expm_de.jl\")"
   ]
  },
  {
   "cell_type": "code",
   "execution_count": 3,
   "id": "f71791ed-4c06-4fa8-b7fb-a47f198d89f2",
   "metadata": {
    "tags": []
   },
   "outputs": [],
   "source": [
    "A_list = []\n",
    "Ref_list = []\n",
    "\n",
    "Random.seed!(1)\n",
    "n = 50\n",
    "Z = convert(Matrix{BigFloat}, mdopen(\"randsvd\", n, 100).A)\n",
    "for k = 1:2\n",
    "    λ = [1 - 10^(2k*(i-1)/n-1) + randn()/20*im for i=1:n]\n",
    "    D = Diagonal(λ)\n",
    "    A = convert(Matrix{ComplexF64}, (Z * D) / Z)\n",
    "    Ref = convert(Matrix{ComplexF64}, (Z * exp(D)) / Z)\n",
    "    push!(A_list, A)\n",
    "    push!(Ref_list, Ref)\n",
    "end"
   ]
  },
  {
   "cell_type": "code",
   "execution_count": 4,
   "id": "d7861621-e3b5-490a-9ece-efd35065d17c",
   "metadata": {
    "tags": []
   },
   "outputs": [],
   "source": [
    "include(\"expm_de.jl\")\n",
    "log10ϵ_list = collect(-10:0.5:-6)\n",
    "results1 = Dict(\"x\" => 10.0 .^ log10ϵ_list)\n",
    "for k = 1:2\n",
    "    A = A_list[k]\n",
    "    Ref = Ref_list[k]\n",
    "    λ = eigvals(A)\n",
    "    i_right = argmax(real(λ))\n",
    "    λ_right = λ[i_right]\n",
    "\n",
    "    h0 = 1.0\n",
    "\n",
    "    err_list = zero(log10ϵ_list)\n",
    "    for (i, log10ϵ) in enumerate(log10ϵ_list)\n",
    "        ϵ = 10.0 ^ (log10ϵ)\n",
    "        r = expm_de(A, ϵ=ϵ/2, h0=h0, λ_right=λ_right)\n",
    "        X = convert(Matrix{ComplexF64}, r.X)\n",
    "        err_list[i] = opnorm(Ref - X)\n",
    "    end\n",
    "    results1[\"y$(k)\"] = err_list\n",
    "end"
   ]
  },
  {
   "cell_type": "code",
   "execution_count": 5,
   "id": "5c0a24e0-4d9f-4542-a09a-094727d3caa1",
   "metadata": {
    "tags": []
   },
   "outputs": [],
   "source": [
    "results2 = Dict()\n",
    "k = 1\n",
    "A = A_list[k]\n",
    "Ref = Ref_list[k]\n",
    "λ = eigvals(A)\n",
    "i_right = argmax(real(λ))\n",
    "λ_right = λ[i_right]\n",
    "\n",
    "h0 = 1.0\n",
    "ϵ = 1e-10\n",
    "result = expm_de(A, ϵ=ϵ, h0=h0, λ_right=λ_right)\n",
    "\n",
    "results2[\"x\"] = 1 ./ result.h\n",
    "results2[\"y1\"] = result.errest\n",
    "\n",
    "err_list = []\n",
    "for (h, l, r) in zip(result.h, result.l, result.r)\n",
    "    r = expm_de(A, h, ϵ=ϵ/2, λ_right=λ_right, lr=[l,r])\n",
    "    X = convert(Matrix{ComplexF64}, r.X)\n",
    "    push!(err_list, opnorm(X - Ref))\n",
    "end\n",
    "results2[\"y2\"] = err_list;"
   ]
  },
  {
   "cell_type": "code",
   "execution_count": 6,
   "id": "764b8af6-f131-44a5-bb20-5c5d515c7088",
   "metadata": {
    "tags": []
   },
   "outputs": [
    {
     "data": {
      "text/plain": [
       "8"
      ]
     },
     "execution_count": 6,
     "metadata": {},
     "output_type": "execute_result"
    }
   ],
   "source": [
    "rcParams = PyPlot.PyDict(PyPlot.matplotlib.\"rcParams\")\n",
    "rcParams[\"font.size\"] = 8\n",
    "rcParams[\"axes.titlesize\"] = 8"
   ]
  },
  {
   "cell_type": "code",
   "execution_count": 7,
   "id": "321b30a4-955d-442a-8f93-dd342de7b9ec",
   "metadata": {
    "tags": []
   },
   "outputs": [
    {
     "name": "stderr",
     "output_type": "stream",
     "text": [
      "sys:1: UserWarning: Matplotlib is currently using agg, which is a non-GUI backend, so cannot show the figure.\n"
     ]
    },
    {
     "data": {
      "image/png": "[encoded data removed]",
      "text/plain": [
       "Figure(PyObject <Figure size 472.441x236.22 with 2 Axes>)"
      ]
     },
     "metadata": {},
     "output_type": "display_data"
    }
   ],
   "source": [
    "x1 = results1[\"x\"]\n",
    "y11 = results1[\"y1\"]\n",
    "y12 = results1[\"y2\"]\n",
    "\n",
    "x2 = results2[\"x\"]\n",
    "y21 = results2[\"y1\"]\n",
    "y22 = results2[\"y2\"]\n",
    "\n",
    "fig, ax = subplots(1, 2, figsize=[12,6]/2.54)\n",
    "ax[1].plot(x1, y11, marker=\"o\", markerfacecolor=\"none\", lw=0, c=\"#222222\", label=\"\\$A_1\\$\")\n",
    "ax[1].plot(x1, y12, marker=\"3\", lw=0, c=\"tab:blue\", markeredgewidth=1.5, label=\"\\$A_2\\$\")\n",
    "ax[1].set_xscale(\"log\")\n",
    "ax[1].set_yscale(\"log\")\n",
    "ax[1].set_xticks([1e-10, 1e-9, 1e-8, 1e-7, 1e-6])\n",
    "ax[1].set_yticks([1e-10, 1e-9, 1e-8, 1e-7, 1e-6])\n",
    "ax[1].set_xlabel(\"Tol. \\$\\\\epsilon\\$\")\n",
    "ax[1].set_ylabel(\"Abs. Err (2-norm)\")\n",
    "ax[1].set_title(\"Accuracy of Alg. 2\")\n",
    "ax[1].legend()\n",
    "ax[1].grid()\n",
    "\n",
    "ax[2].plot(x2, y21, marker=\"+\", c=\"tab:orange\", markeredgewidth=1.5, lw=0.5, ls=\"--\", label=\"estimate\")\n",
    "ax[2].plot(x2, y22, marker=\"o\", markerfacecolor=\"none\", lw=0, c=\"#222222\", label=\"error\")\n",
    "ax[2].set_yscale(\"log\")\n",
    "ax[2].set_xlim(0,6)\n",
    "ax[2].set_xticks([5, 10])\n",
    "ax[2].set_yticks([1e-10, 1e-5, 1e0])\n",
    "ax[2].set_xlabel(\"\\$1/h\\$\")\n",
    "ax[2].set_ylabel(\"\\nAbs. Err (2-norm)\")\n",
    "ax[2].set_title(\"Error Estimation\\n\\$(A_1, \\\\epsilon=10^{-10})\\$\")\n",
    "ax[2].legend()\n",
    "ax[2].grid()\n",
    "\n",
    "fig.tight_layout()\n",
    "fig.savefig(\"fig/test3.pdf\")\n",
    "show()"
   ]
  }
 ],
 "metadata": {
  "kernelspec": {
   "display_name": "expm_de",
   "language": "julia",
   "name": "julia_expmde"
  },
  "language_info": {
   "file_extension": ".jl",
   "mimetype": "application/julia",
   "name": "julia",
   "version": "1.10.0"
  }
 },
 "nbformat": 4,
 "nbformat_minor": 5
}
